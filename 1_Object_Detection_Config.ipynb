{
  "nbformat": 4,
  "nbformat_minor": 0,
  "metadata": {
    "colab": {
      "name": "1-Object_Detection_Config.ipynb",
      "provenance": [],
      "authorship_tag": "ABX9TyMPbTwWnuUJ6hHAfbYRyhxZ",
      "include_colab_link": true
    },
    "kernelspec": {
      "name": "python3",
      "display_name": "Python 3"
    },
    "accelerator": "GPU"
  },
  "cells": [
    {
      "cell_type": "markdown",
      "metadata": {
        "id": "view-in-github",
        "colab_type": "text"
      },
      "source": [
        "<a href=\"https://colab.research.google.com/github/OskarCali/Object-Detection-Challenge/blob/master/1_Object_Detection_Config.ipynb\" target=\"_parent\"><img src=\"https://colab.research.google.com/assets/colab-badge.svg\" alt=\"Open In Colab\"/></a>"
      ]
    },
    {
      "cell_type": "markdown",
      "metadata": {
        "id": "q9B_MiRavQCI",
        "colab_type": "text"
      },
      "source": [
        "# **In this colab we are going to download all the nessesary files**"
      ]
    },
    {
      "cell_type": "markdown",
      "metadata": {
        "id": "6jEWfkTrnElA",
        "colab_type": "text"
      },
      "source": [
        "# **Step 1 – Check GPU configurations working properly**\n",
        "First of all we need to check the GPU configurations working properly. For that please execute following piece of python code in the colab file."
      ]
    },
    {
      "cell_type": "code",
      "metadata": {
        "id": "e0okumXKmtok",
        "colab_type": "code",
        "outputId": "52d92fcf-5763-4f76-9d83-5144df98ea92",
        "colab": {
          "base_uri": "https://localhost:8080/",
          "height": 200
        }
      },
      "source": [
        "import tensorflow as tf\n",
        "config = tf.ConfigProto()\n",
        "config.gpu_options.allow_growth = True\n",
        " \n",
        "with tf.device('/gpu:0'):\n",
        "  random_image_gpu = tf.random_normal((100, 100, 100, 3))\n",
        "  net_gpu = tf.layers.conv2d(random_image_gpu, 32, 7)\n",
        "  net_gpu = tf.reduce_sum(net_gpu)\n",
        "   \n",
        "sess = tf.Session(config=config)\n",
        " \n",
        "try:\n",
        "  sess.run(tf.global_variables_initializer())\n",
        "  print('ok')\n",
        "except tf.errors.InvalidArgumentError:\n",
        "  print(\n",
        "      '\\n\\nThis error most likely means that this notebook is not '\n",
        "      'configured to use a GPU.  Change this in Notebook Settings via the '\n",
        "      'command palette (cmd/ctrl-shift-P) or the Edit menu.\\n\\n')\n",
        "  raise"
      ],
      "execution_count": 1,
      "outputs": [
        {
          "output_type": "display_data",
          "data": {
            "text/html": [
              "<p style=\"color: red;\">\n",
              "The default version of TensorFlow in Colab will soon switch to TensorFlow 2.x.<br>\n",
              "We recommend you <a href=\"https://www.tensorflow.org/guide/migrate\" target=\"_blank\">upgrade</a> now \n",
              "or ensure your notebook will continue to use TensorFlow 1.x via the <code>%tensorflow_version 1.x</code> magic:\n",
              "<a href=\"https://colab.research.google.com/notebooks/tensorflow_version.ipynb\" target=\"_blank\">more info</a>.</p>\n"
            ],
            "text/plain": [
              "<IPython.core.display.HTML object>"
            ]
          },
          "metadata": {
            "tags": []
          }
        },
        {
          "output_type": "stream",
          "text": [
            "WARNING:tensorflow:From <ipython-input-1-5d5135f72728>:7: conv2d (from tensorflow.python.layers.convolutional) is deprecated and will be removed in a future version.\n",
            "Instructions for updating:\n",
            "Use `tf.keras.layers.Conv2D` instead.\n",
            "WARNING:tensorflow:From /usr/local/lib/python3.6/dist-packages/tensorflow_core/python/layers/convolutional.py:424: Layer.apply (from tensorflow.python.keras.engine.base_layer) is deprecated and will be removed in a future version.\n",
            "Instructions for updating:\n",
            "Please use `layer.__call__` method instead.\n",
            "ok\n"
          ],
          "name": "stdout"
        }
      ]
    },
    {
      "cell_type": "markdown",
      "metadata": {
        "id": "Ky3yQtzVnMaQ",
        "colab_type": "text"
      },
      "source": [
        "# **Step 2 – Connect to the Google Drive**\n",
        "As the next step, we need to connect our colab file to the google drive. This is because, if we going to train a new model we can save it in the google drive rather than save it in the temporary location provide by the colab. To do that, please execute following code in a new code widget on colab file. Before doing this, create a new folder in your google drive"
      ]
    },
    {
      "cell_type": "code",
      "metadata": {
        "id": "aLxU3VxHnNS6",
        "colab_type": "code",
        "outputId": "d5e947a7-9791-4b15-bda2-50ce2d10430d",
        "colab": {
          "base_uri": "https://localhost:8080/",
          "height": 138
        }
      },
      "source": [
        "from os.path import join\n",
        "from google.colab import drive\n",
        " \n",
        "ROOT = \"/content/drive\"\n",
        "drive.mount(ROOT)\n",
        "\n",
        "# This is a custom path. 'My Drive' is the root of your google drive change accordingly\n",
        "PROJ = \"My Drive/workshop_challenge\" \n",
        "PROJECT_PATH = join(ROOT, PROJ)\n",
        " \n",
        "#%cd ~/content \n",
        "%cd {PROJECT_PATH}"
      ],
      "execution_count": 2,
      "outputs": [
        {
          "output_type": "stream",
          "text": [
            "Go to this URL in a browser: https://accounts.google.com/o/oauth2/auth?client_id=947318989803-6bn6qk8qdgf4n4g3pfee6491hc0brc4i.apps.googleusercontent.com&redirect_uri=urn%3aietf%3awg%3aoauth%3a2.0%3aoob&response_type=code&scope=email%20https%3a%2f%2fwww.googleapis.com%2fauth%2fdocs.test%20https%3a%2f%2fwww.googleapis.com%2fauth%2fdrive%20https%3a%2f%2fwww.googleapis.com%2fauth%2fdrive.photos.readonly%20https%3a%2f%2fwww.googleapis.com%2fauth%2fpeopleapi.readonly\n",
            "\n",
            "Enter your authorization code:\n",
            "··········\n",
            "Mounted at /content/drive\n",
            "/content/drive/My Drive/workshop_challenge\n"
          ],
          "name": "stdout"
        }
      ]
    },
    {
      "cell_type": "markdown",
      "metadata": {
        "id": "9Pb1QM-tqrXx",
        "colab_type": "text"
      },
      "source": [
        "# **Step 3 – Clone the Tensorflow models repository**\n",
        "In this step, you can clone the github folder of Tensorflow´s Object detection API. Once completed you can check those files by navigating to Google drive -> My Drive -> your/folder/route directory.\n",
        "\n",
        "**Note:**this might take a while\n",
        "\n",
        "**do it only once if the folder already has the models downloaded**"
      ]
    },
    {
      "cell_type": "code",
      "metadata": {
        "id": "oSYKR242qsHg",
        "colab_type": "code",
        "outputId": "332fd92b-6eef-468e-9367-51177f8d7f96",
        "colab": {
          "base_uri": "https://localhost:8080/",
          "height": 151
        }
      },
      "source": [
        "!git clone https://github.com/tensorflow/models.git"
      ],
      "execution_count": 3,
      "outputs": [
        {
          "output_type": "stream",
          "text": [
            "Cloning into 'models'...\n",
            "remote: Enumerating objects: 19, done.\u001b[K\n",
            "remote: Counting objects: 100% (19/19), done.\u001b[K\n",
            "remote: Compressing objects: 100% (15/15), done.\u001b[K\n",
            "remote: Total 34071 (delta 6), reused 16 (delta 4), pack-reused 34052\u001b[K\n",
            "Receiving objects: 100% (34071/34071), 512.11 MiB | 15.93 MiB/s, done.\n",
            "Resolving deltas: 100% (21830/21830), done.\n",
            "Checking out files: 100% (3012/3012), done.\n"
          ],
          "name": "stdout"
        }
      ]
    },
    {
      "cell_type": "markdown",
      "metadata": {
        "id": "XYV__bmQto5q",
        "colab_type": "text"
      },
      "source": [
        "# **Step 4 – Download base model**\n",
        "\n",
        "Download the base model into the object_detection folder\n",
        "\n",
        "https://github.com/tensorflow/models/blob/master/research/object_detection/g3doc/detection_model_zoo.md\n",
        "\n",
        "**this has to be done only once **\n",
        "\n",
        "\n"
      ]
    },
    {
      "cell_type": "code",
      "metadata": {
        "id": "s2EHkhBUt3DQ",
        "colab_type": "code",
        "outputId": "80a4bd9f-ba17-4c70-a475-c5c7afcfc73e",
        "colab": {
          "base_uri": "https://localhost:8080/",
          "height": 34
        }
      },
      "source": [
        "ENV = \"models/research/object_detection\" \n",
        "PROJECT_ENV = join(PROJECT_PATH, ENV)\n",
        "%cd {ENV}\n",
        "\n",
        "import os\n",
        "import shutil\n",
        "import glob\n",
        "import urllib.request\n",
        "import tarfile\n",
        "\n",
        "MODEL = 'faster_rcnn_inception_v2_coco_2018_01_28'\n",
        "#MODEL = 'ssd_mobilenet_v1_coco_2018_01_28'\n",
        "MODEL_FILE = MODEL + '.tar.gz'\n",
        "DOWNLOAD_BASE = 'http://download.tensorflow.org/models/object_detection/'\n",
        "#http://download.tensorflow.org/models/object_detection/faster_rcnn_inception_v2_coco_2018_01_28.tar.gz\n",
        "DEST_DIR = '/content/models/research/object_detection'\n",
        "\n",
        "if not (os.path.exists(MODEL_FILE)):\n",
        "    urllib.request.urlretrieve(DOWNLOAD_BASE + MODEL_FILE, MODEL_FILE)\n",
        "\n",
        "tar = tarfile.open(MODEL_FILE)\n",
        "tar.extractall()\n",
        "tar.close()\n",
        "\n",
        "os.remove(MODEL_FILE)\n",
        "if (os.path.exists(DEST_DIR)):\n",
        "    shutil.rmtree(DEST_DIR)\n"
      ],
      "execution_count": 4,
      "outputs": [
        {
          "output_type": "stream",
          "text": [
            "/content/drive/My Drive/workshop_challenge/models/research/object_detection\n"
          ],
          "name": "stdout"
        }
      ]
    },
    {
      "cell_type": "markdown",
      "metadata": {
        "id": "vj8xOqFcMf_Z",
        "colab_type": "text"
      },
      "source": [
        "# **Step 5 - Move example files from the object_detection_workshop folder**\n",
        "\n",
        "we will need to move the following files & folders into the object detection folder\n",
        "(/content/drive/My Drive/workshop/models/research/object_detection)\n",
        "\n",
        "\n",
        "*   Images (folder containing sample images and its anotations)\n",
        "*   inference graph (empty folder to save our inference graph model)\n",
        "*   training folder (folder containing the config pipeline adn labelmap)\n",
        "*   test1 (sample image file to test the model)\n",
        "*   xml_to_csv.py (python code to collect all anotations in one csv file)\n",
        "*   generate_tfrecord.py (pythone code to transform the csv file into a tfrecord)\n",
        "\n"
      ]
    },
    {
      "cell_type": "code",
      "metadata": {
        "id": "3Ftczh3xP625",
        "colab_type": "code",
        "outputId": "c77ea39c-7a4e-4d5a-e19e-372b9aa04905",
        "colab": {
          "base_uri": "https://localhost:8080/",
          "height": 454
        }
      },
      "source": [
        "from os.path import join\n",
        "ENV = \"/models/research/object_detection\" \n",
        "PROJECT_ENV = join(PROJECT_PATH, ENV)\n",
        "%cd {PROJECT_ENV}\n",
        "\n",
        "import os\n",
        "cwd = os.getcwd()\n",
        "print (cwd)\n",
        "\n",
        "!ls"
      ],
      "execution_count": 5,
      "outputs": [
        {
          "output_type": "stream",
          "text": [
            "[Errno 2] No such file or directory: '/models/research/object_detection'\n",
            "/content/drive/My Drive/workshop_challenge/models/research/object_detection\n",
            "/content/drive/My Drive/workshop_challenge/models/research/object_detection\n",
            "anchor_generators\t\t\t  inputs_test.py\n",
            "box_coders\t\t\t\t  legacy\n",
            "builders\t\t\t\t  matchers\n",
            "CONTRIBUTING.md\t\t\t\t  meta_architectures\n",
            "core\t\t\t\t\t  metrics\n",
            "data\t\t\t\t\t  model_hparams.py\n",
            "data_decoders\t\t\t\t  model_lib.py\n",
            "dataset_tools\t\t\t\t  model_lib_test.py\n",
            "dockerfiles\t\t\t\t  model_lib_v2.py\n",
            "eval_util.py\t\t\t\t  model_lib_v2_test.py\n",
            "eval_util_test.py\t\t\t  model_main.py\n",
            "exporter.py\t\t\t\t  models\n",
            "exporter_test.py\t\t\t  model_tpu_main.py\n",
            "export_inference_graph.py\t\t  object_detection_tutorial.ipynb\n",
            "export_tflite_ssd_graph_lib.py\t\t  predictors\n",
            "export_tflite_ssd_graph_lib_test.py\t  protos\n",
            "export_tflite_ssd_graph.py\t\t  README.md\n",
            "faster_rcnn_inception_v2_coco_2018_01_28  samples\n",
            "g3doc\t\t\t\t\t  test_ckpt\n",
            "images\t\t\t\t\t  test_data\n",
            "inference\t\t\t\t  test_images\n",
            "__init__.py\t\t\t\t  tpu_exporters\n",
            "inputs.py\t\t\t\t  utils\n"
          ],
          "name": "stdout"
        }
      ]
    },
    {
      "cell_type": "markdown",
      "metadata": {
        "id": "K4EZ3mukyK0T",
        "colab_type": "text"
      },
      "source": [
        "# **Step 6 - Create a dataset**\n",
        "\n",
        "A dataset must have 2 things\n",
        "\n",
        "\n",
        "1.   Mixed sample images from the objects that we want to detect\n",
        "2.   Anotations of the images\n",
        "\n",
        "There are many tools that we can use to label our images, in this case we will use\n",
        "\n",
        "https://github.com/tzutalin/labelImg\n",
        "\n",
        "For windows you can download it from this link\n",
        "\n",
        "https://drive.google.com/file/d/1Lnju0mDLB_nKdpSo4N1YdrxLGYLy7OJm/view?usp=sharing\n",
        "\n"
      ]
    }
  ]
}